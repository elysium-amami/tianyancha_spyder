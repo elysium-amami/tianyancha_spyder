{
 "cells": [
  {
   "cell_type": "code",
   "execution_count": 1,
   "metadata": {},
   "outputs": [],
   "source": [
    "import os, json, sys\n",
    "from selenium import webdriver\n",
    "from selenium.webdriver.chrome.options import Options"
   ]
  },
  {
   "cell_type": "code",
   "execution_count": 2,
   "metadata": {},
   "outputs": [],
   "source": [
    "chrome_options = Options()\n",
    "chrome_options.add_argument('--headless')\n",
    "chrome_options.add_argument('--disable-gpu')\n",
    "# path='/home/lyg/chromedriver_linux64/chromedriver'\n",
    "# driver=webdriver.Chrome(path,chrome_options=chrome_options)\n",
    "driver=webdriver.Chrome()"
   ]
  },
  {
   "cell_type": "code",
   "execution_count": 3,
   "metadata": {},
   "outputs": [],
   "source": [
    "# 登录\n",
    "driver.get('https://www.tianyancha.com/login')"
   ]
  },
  {
   "cell_type": "code",
   "execution_count": 4,
   "metadata": {},
   "outputs": [],
   "source": [
    "# 定位密码登录标签\n",
    "login_button = driver.find_element_by_xpath('//*[@id=\"web-content\"]/div/div[2]/div/div/div[3]/div[3]/div[1]/div[2]')\n",
    "login_button.click()"
   ]
  },
  {
   "cell_type": "code",
   "execution_count": 5,
   "metadata": {},
   "outputs": [],
   "source": [
    "# 输入手机号\n",
    "phone=driver.find_element_by_xpath('//*[@id=\"mobile\"]')\n",
    "phone.send_keys('your account')"
   ]
  },
  {
   "cell_type": "code",
   "execution_count": 6,
   "metadata": {},
   "outputs": [],
   "source": [
    "# 输入密码\n",
    "password = driver.find_element_by_xpath('//*[@id=\"password\"]')\n",
    "password.send_keys('your passwd')"
   ]
  },
  {
   "cell_type": "code",
   "execution_count": 7,
   "metadata": {},
   "outputs": [],
   "source": [
    "ensure = driver.find_element_by_xpath('//*[@id=\"web-content\"]/div/div[2]/div/div/div[3]/div[3]/div[2]/div[4]')\n",
    "ensure.click()"
   ]
  },
  {
   "cell_type": "code",
   "execution_count": 8,
   "metadata": {},
   "outputs": [],
   "source": [
    "import get_base_info\n",
    "import get_anaul_report\n",
    "import get_business_info\n",
    "import get_intellectual_property\n",
    "import get_judicial_risk\n",
    "import get_main_members\n",
    "import get_shareholders\n",
    "import get_operating_risk\n",
    "import time\n",
    "import scrapy"
   ]
  },
  {
   "cell_type": "code",
   "execution_count": 9,
   "metadata": {},
   "outputs": [
    {
     "data": {
      "text/plain": [
       "True"
      ]
     },
     "execution_count": 9,
     "metadata": {},
     "output_type": "execute_result"
    }
   ],
   "source": [
    "driver.save_screenshot('test.png')"
   ]
  },
  {
   "cell_type": "code",
   "execution_count": 19,
   "metadata": {},
   "outputs": [],
   "source": [
    "key='网易'\n",
    "url='https://www.tianyancha.com/search?key='+key\n",
    "driver.get(url)"
   ]
  },
  {
   "cell_type": "code",
   "execution_count": 20,
   "metadata": {},
   "outputs": [],
   "source": [
    "select=scrapy.Selector(text=driver.page_source)\n",
    "# 搜索页xpath路径\n",
    "company_result_list = '//*[@id=\"search_query\"]//div[@class=\"result-list sv-search-container\"]'\n",
    "# 选择第一个公司\n",
    "url=select.xpath(company_result_list + '/div[1]/div/div[3]/div[1]/a/@href').extract_first()\n",
    "driver.get(url)"
   ]
  },
  {
   "cell_type": "code",
   "execution_count": 21,
   "metadata": {},
   "outputs": [],
   "source": [
    "select=scrapy.Selector(text=driver.page_source)"
   ]
  },
  {
   "cell_type": "markdown",
   "metadata": {},
   "source": [
    "## 基本信息_scratch"
   ]
  },
  {
   "cell_type": "code",
   "execution_count": 22,
   "metadata": {},
   "outputs": [],
   "source": [
    "baseinfos = select.xpath('//div[@id=\"company_web_top\"]')"
   ]
  },
  {
   "cell_type": "code",
   "execution_count": 23,
   "metadata": {},
   "outputs": [
    {
     "data": {
      "text/plain": [
       "'网易（杭州）网络有限公司'"
      ]
     },
     "execution_count": 23,
     "metadata": {},
     "output_type": "execute_result"
    }
   ],
   "source": [
    "baseinfos.xpath('./div[3]/div[3]/div[1]/h1/text()').extract_first()"
   ]
  },
  {
   "cell_type": "code",
   "execution_count": 24,
   "metadata": {},
   "outputs": [
    {
     "data": {
      "text/plain": [
       "'0571-89852163'"
      ]
     },
     "execution_count": 24,
     "metadata": {},
     "output_type": "execute_result"
    }
   ],
   "source": [
    "baseinfos.xpath('./div[3]/div[3]/div[3]/div[1]/div[1]/span[4]/text()').extract_first()"
   ]
  },
  {
   "cell_type": "code",
   "execution_count": 25,
   "metadata": {},
   "outputs": [
    {
     "data": {
      "text/plain": [
       "'暂无信息'"
      ]
     },
     "execution_count": 25,
     "metadata": {},
     "output_type": "execute_result"
    }
   ],
   "source": [
    "baseinfos.xpath('./div[3]/div[3]/div[3]/div[1]/div[2]/span[4]/text()').extract_first()"
   ]
  },
  {
   "cell_type": "code",
   "execution_count": 26,
   "metadata": {},
   "outputs": [
    {
     "data": {
      "text/plain": [
       "'www.163.com'"
      ]
     },
     "execution_count": 26,
     "metadata": {},
     "output_type": "execute_result"
    }
   ],
   "source": [
    "baseinfos.xpath('./div[3]/div[3]/div[3]/div[2]/div[1]/a[2]/text()').extract_first()"
   ]
  },
  {
   "cell_type": "code",
   "execution_count": 27,
   "metadata": {},
   "outputs": [
    {
     "data": {
      "text/plain": [
       "'浙江省杭州市滨江区长河街道网商路599号4幢7层\\xa0\\xa0'"
      ]
     },
     "execution_count": 27,
     "metadata": {},
     "output_type": "execute_result"
    }
   ],
   "source": [
    "baseinfos.xpath('./div[3]/div[3]/div[3]/div[2]/div[2]/div/div/text()').extract_first()"
   ]
  },
  {
   "cell_type": "code",
   "execution_count": 28,
   "metadata": {},
   "outputs": [
    {
     "data": {
      "text/plain": [
       "'              浙江省杭州市滨江区长河街道网商路599号4幢7层            '"
      ]
     },
     "execution_count": 28,
     "metadata": {},
     "output_type": "execute_result"
    }
   ],
   "source": [
    "baseinfos.xpath('//*[@id=\"company_base_info_address\"]/text()').extract_first()"
   ]
  },
  {
   "cell_type": "code",
   "execution_count": 29,
   "metadata": {},
   "outputs": [
    {
     "data": {
      "text/plain": [
       "'              网易公司（NASDAQ：NTES）成立于1997年，总部位于广东省广州市，是中国领先的互联网技术公司，也是中国主要门户网站。网易公司推出了门户网站、在线游戏、电子邮箱、在线教育、电子商务、在线音乐等多种服务。2012年9月6日发布了2012年“100家增长最快的公司”排行榜，网易排名第81。            '"
      ]
     },
     "execution_count": 29,
     "metadata": {},
     "output_type": "execute_result"
    }
   ],
   "source": [
    "baseinfos.xpath('//*[@id=\"company_base_info_detail\"]//text()').extract_first()"
   ]
  },
  {
   "cell_type": "markdown",
   "metadata": {},
   "source": [
    "## 获取基本信息"
   ]
  },
  {
   "cell_type": "code",
   "execution_count": 30,
   "metadata": {},
   "outputs": [],
   "source": [
    "company={}\n",
    "company['基本信息']=get_base_info.get_base(select)"
   ]
  },
  {
   "cell_type": "code",
   "execution_count": 31,
   "metadata": {},
   "outputs": [
    {
     "data": {
      "text/plain": [
       "{'基本信息': {'公司名称': '网易（杭州）网络有限公司',\n",
       "  '电话': '0571-89852163',\n",
       "  '邮箱': '暂无信息',\n",
       "  '网址': 'www.163.com',\n",
       "  '地址': '              浙江省杭州市滨江区长河街道网商路599号4幢7层            ',\n",
       "  '简介': '              网易公司（NASDAQ：NTES）成立于1997年，总部位于广东省广州市，是中国领先的互联网技术公司，也是中国主要门户网站。网易公司推出了门户网站、在线游戏、电子邮箱、在线教育、电子商务、在线音乐等多种服务。2012年9月6日发布了2012年“100家增长最快的公司”排行榜，网易排名第81。            '}}"
      ]
     },
     "execution_count": 31,
     "metadata": {},
     "output_type": "execute_result"
    }
   ],
   "source": [
    "company"
   ]
  },
  {
   "cell_type": "markdown",
   "metadata": {},
   "source": [
    "## 工商信息scratch"
   ]
  },
  {
   "cell_type": "code",
   "execution_count": 32,
   "metadata": {},
   "outputs": [],
   "source": [
    "trs = select.xpath('//*[@id=\"_container_baseInfo\"]/table//tr')"
   ]
  },
  {
   "cell_type": "code",
   "execution_count": 33,
   "metadata": {},
   "outputs": [],
   "source": [
    "temp={}\n",
    "for tr in trs[0:5]:\n",
    "    temp[tr.xpath('./td[1]/text()').extract_first()]=\\\n",
    "        tr.xpath('./td[2]').xpath('string(.)').extract_first()\n",
    "    temp[tr.xpath('./td[3]/text()').extract_first()] =\\\n",
    "        tr.xpath('./td[4]').xpath('string(.)').extract_first()\n",
    "temp[trs[5].xpath('./td[1]/text()').extract_first()] = \\\n",
    "    trs[5].xpath('./td[2]/span/text()').extract_first()"
   ]
  },
  {
   "cell_type": "code",
   "execution_count": 34,
   "metadata": {},
   "outputs": [],
   "source": [
    "temp[trs[6].xpath('./td[1]/text()').extract_first()]=\\\n",
    "    trs[6].xpath('./td[2]').xpath('string(.)').extract_first()\n",
    "temp[trs[6].xpath('./td[3]/text()').extract_first()] =\\\n",
    "    trs[6].xpath('./td[4]').xpath('string(.)').extract_first()\n",
    "temp[trs[6].xpath('./td[5]/text()').extract_first()] =\\\n",
    "    trs[6].xpath('./td[6]').xpath('string(.)').extract_first()"
   ]
  },
  {
   "cell_type": "code",
   "execution_count": 35,
   "metadata": {},
   "outputs": [
    {
     "data": {
      "text/plain": [
       "{'法定代表人': '丁丁磊任职51家企业，分布如下浙江（共22家）网易（杭州）网络有限公司等北京（共9家）网易有道信息技术（北京）有限公司等其他（共20家）网易（上海）网络游戏有限公司等',\n",
       " '经营状态': '存续',\n",
       " '成立日期': '2006-06-02',\n",
       " None: None,\n",
       " '注册资本': '13760万美元',\n",
       " '实缴资本': '13760万美元',\n",
       " '工商注册号': '330000400000772',\n",
       " '统一社会信用代码': '91330000788831167A',\n",
       " '纳税人识别号': '91330000788831167A',\n",
       " '营业期限': '2006-06-02\\xa0            至\\xa02026-06-01',\n",
       " '公司类型': '有限责任公司(台港澳法人独资)',\n",
       " '行业': '软件和信息技术服务业',\n",
       " '人员规模': '5000-9999人',\n",
       " '经营范围': '计算机软、硬件及网络通信产品的开发、生产，互联网门户技术、电子商务技术、电子出版技术的开发、服务，销售本公司产品，从事服装服饰、电子产品、日用百货、工艺礼品、家用电器、体育用品、纺织品、金银珠宝首饰、化妆品（除分装）及卫生用品、办公用品、乐器、钟表、眼镜、玩具、照相器材、文化用品（不含图书、报刊、期刊、音像制品及电子出版物）、箱包皮具、花卉、盆景、通讯器材、五金灯具、建筑材料、装饰材料、金银制品的批发、零售、进口和佣金代理业务（拍卖除外），教育软件研发、技术咨询、技术服务，教育信息咨询（不含教育活动），票务代理（不含航空票务），自有房屋租赁，出版物批发、零售（凭许可证经营），设备租赁，翻译服务，体育赛事活动的组织、策划，体育经纪人、文化娱乐经纪人服务（不含演出经纪），设计、制作、代理、发布国内各类广告。（依法须经批准的项目，经相关部门批准后方可开展经营活动）'}"
      ]
     },
     "execution_count": 35,
     "metadata": {},
     "output_type": "execute_result"
    }
   ],
   "source": [
    "detail = trs[10].xpath('./td[2]/span/text()').extract_first()\n",
    "temp['经营范围']=detail.strip('.')\n",
    "temp"
   ]
  },
  {
   "cell_type": "markdown",
   "metadata": {},
   "source": [
    "## 工商信息"
   ]
  },
  {
   "cell_type": "code",
   "execution_count": 36,
   "metadata": {},
   "outputs": [],
   "source": [
    "company['工商信息']=get_business_info.get_gongshang(select)"
   ]
  },
  {
   "cell_type": "code",
   "execution_count": 37,
   "metadata": {},
   "outputs": [
    {
     "data": {
      "text/plain": [
       "{'基本信息': {'公司名称': '网易（杭州）网络有限公司',\n",
       "  '电话': '0571-89852163',\n",
       "  '邮箱': '暂无信息',\n",
       "  '网址': 'www.163.com',\n",
       "  '地址': '              浙江省杭州市滨江区长河街道网商路599号4幢7层            ',\n",
       "  '简介': '              网易公司（NASDAQ：NTES）成立于1997年，总部位于广东省广州市，是中国领先的互联网技术公司，也是中国主要门户网站。网易公司推出了门户网站、在线游戏、电子邮箱、在线教育、电子商务、在线音乐等多种服务。2012年9月6日发布了2012年“100家增长最快的公司”排行榜，网易排名第81。            '},\n",
       " '工商信息': {'法定代表人': '丁丁磊任职51家企业，分布如下浙江（共22家）网易（杭州）网络有限公司等北京（共9家）网易有道信息技术（北京）有限公司等其他（共20家）网易（上海）网络游戏有限公司等',\n",
       "  '经营状态': '存续',\n",
       "  '成立日期': '2006-06-02',\n",
       "  None: None,\n",
       "  '注册资本': '13760万美元',\n",
       "  '实缴资本': '13760万美元',\n",
       "  '工商注册号': '330000400000772',\n",
       "  '统一社会信用代码': '91330000788831167A',\n",
       "  '纳税人识别号': '91330000788831167A',\n",
       "  '营业期限': '2006-06-02\\xa0            至\\xa02026-06-01',\n",
       "  '公司类型': '有限责任公司(台港澳法人独资)',\n",
       "  '行业': '软件和信息技术服务业',\n",
       "  '人员规模': '5000-9999人',\n",
       "  '经营范围': '计算机软、硬件及网络通信产品的开发、生产，互联网门户技术、电子商务技术、电子出版技术的开发、服务，销售本公司产品，从事服装服饰、电子产品、日用百货、工艺礼品、家用电器、体育用品、纺织品、金银珠宝首饰、化妆品（除分装）及卫生用品、办公用品、乐器、钟表、眼镜、玩具、照相器材、文化用品（不含图书、报刊、期刊、音像制品及电子出版物）、箱包皮具、花卉、盆景、通讯器材、五金灯具、建筑材料、装饰材料、金银制品的批发、零售、进口和佣金代理业务（拍卖除外），教育软件研发、技术咨询、技术服务，教育信息咨询（不含教育活动），票务代理（不含航空票务），自有房屋租赁，出版物批发、零售（凭许可证经营），设备租赁，翻译服务，体育赛事活动的组织、策划，体育经纪人、文化娱乐经纪人服务（不含演出经纪），设计、制作、代理、发布国内各类广告。（依法须经批准的项目，经相关部门批准后方可开展经营活动）'}}"
      ]
     },
     "execution_count": 37,
     "metadata": {},
     "output_type": "execute_result"
    }
   ],
   "source": [
    "company"
   ]
  },
  {
   "cell_type": "markdown",
   "metadata": {},
   "source": [
    "### 股东信息"
   ]
  },
  {
   "cell_type": "code",
   "execution_count": 38,
   "metadata": {},
   "outputs": [],
   "source": [
    "trs=select.xpath('//*[@id=\"_container_holderCount\"]/div/table/tbody/tr')"
   ]
  },
  {
   "cell_type": "code",
   "execution_count": 39,
   "metadata": {},
   "outputs": [],
   "source": [
    "# Ltemp=[]\n",
    "# for t in trs:\n",
    "#     temp = {}\n",
    "#     temp['股东']=t.xpath('./td[2]/table/tbody/tr/td[2]/a/text()').extract_first()\n",
    "#     temp['出资比例']=t.xpath('./td[3]//span/text()').extract_first()\n",
    "#     temp['认缴出资']=t.xpath('./td[4]//span/text()').extract_first()\n",
    "#     Ltemp.append(temp)\n",
    "# Ltemp"
   ]
  },
  {
   "cell_type": "code",
   "execution_count": 40,
   "metadata": {},
   "outputs": [
    {
     "data": {
      "text/plain": [
       "{'基本信息': {'公司名称': '网易（杭州）网络有限公司',\n",
       "  '电话': '0571-89852163',\n",
       "  '邮箱': '暂无信息',\n",
       "  '网址': 'www.163.com',\n",
       "  '地址': '              浙江省杭州市滨江区长河街道网商路599号4幢7层            ',\n",
       "  '简介': '              网易公司（NASDAQ：NTES）成立于1997年，总部位于广东省广州市，是中国领先的互联网技术公司，也是中国主要门户网站。网易公司推出了门户网站、在线游戏、电子邮箱、在线教育、电子商务、在线音乐等多种服务。2012年9月6日发布了2012年“100家增长最快的公司”排行榜，网易排名第81。            '},\n",
       " '工商信息': {'法定代表人': '丁丁磊任职51家企业，分布如下浙江（共22家）网易（杭州）网络有限公司等北京（共9家）网易有道信息技术（北京）有限公司等其他（共20家）网易（上海）网络游戏有限公司等',\n",
       "  '经营状态': '存续',\n",
       "  '成立日期': '2006-06-02',\n",
       "  None: None,\n",
       "  '注册资本': '13760万美元',\n",
       "  '实缴资本': '13760万美元',\n",
       "  '工商注册号': '330000400000772',\n",
       "  '统一社会信用代码': '91330000788831167A',\n",
       "  '纳税人识别号': '91330000788831167A',\n",
       "  '营业期限': '2006-06-02\\xa0            至\\xa02026-06-01',\n",
       "  '公司类型': '有限责任公司(台港澳法人独资)',\n",
       "  '行业': '软件和信息技术服务业',\n",
       "  '人员规模': '5000-9999人',\n",
       "  '经营范围': '计算机软、硬件及网络通信产品的开发、生产，互联网门户技术、电子商务技术、电子出版技术的开发、服务，销售本公司产品，从事服装服饰、电子产品、日用百货、工艺礼品、家用电器、体育用品、纺织品、金银珠宝首饰、化妆品（除分装）及卫生用品、办公用品、乐器、钟表、眼镜、玩具、照相器材、文化用品（不含图书、报刊、期刊、音像制品及电子出版物）、箱包皮具、花卉、盆景、通讯器材、五金灯具、建筑材料、装饰材料、金银制品的批发、零售、进口和佣金代理业务（拍卖除外），教育软件研发、技术咨询、技术服务，教育信息咨询（不含教育活动），票务代理（不含航空票务），自有房屋租赁，出版物批发、零售（凭许可证经营），设备租赁，翻译服务，体育赛事活动的组织、策划，体育经纪人、文化娱乐经纪人服务（不含演出经纪），设计、制作、代理、发布国内各类广告。（依法须经批准的项目，经相关部门批准后方可开展经营活动）'},\n",
       " '股东信息': [{'股东': '香港网易互动娱乐有限公司', '出资比例': '100%', '认缴出资': '100%'}]}"
      ]
     },
     "execution_count": 40,
     "metadata": {},
     "output_type": "execute_result"
    }
   ],
   "source": [
    "company['股东信息']=get_shareholders.get_gudong(select=select)\n",
    "company"
   ]
  },
  {
   "cell_type": "markdown",
   "metadata": {},
   "source": [
    "### 主要成员"
   ]
  },
  {
   "cell_type": "code",
   "execution_count": 41,
   "metadata": {},
   "outputs": [],
   "source": [
    "members=select.xpath('//div[@id=\"_container_staffCount\"]/div/table/tbody/tr')"
   ]
  },
  {
   "cell_type": "code",
   "execution_count": 42,
   "metadata": {},
   "outputs": [],
   "source": [
    "# Ltemp=[]\n",
    "# for t in members:\n",
    "#     temp = {}\n",
    "#     temp['姓名']=t.xpath('./td[2]/table/tbody/tr/td[2]/a/text()').extract_first()\n",
    "#     temp['职位']=t.xpath('./td[3]//span/text()').extract_first()\n",
    "#     temp['持股比例']=t.xpath('./td[4]/text()').extract_first()\n",
    "#     Ltemp.append(temp)\n",
    "# Ltemp"
   ]
  },
  {
   "cell_type": "code",
   "execution_count": 43,
   "metadata": {},
   "outputs": [
    {
     "data": {
      "text/plain": [
       "{'基本信息': {'公司名称': '网易（杭州）网络有限公司',\n",
       "  '电话': '0571-89852163',\n",
       "  '邮箱': '暂无信息',\n",
       "  '网址': 'www.163.com',\n",
       "  '地址': '              浙江省杭州市滨江区长河街道网商路599号4幢7层            ',\n",
       "  '简介': '              网易公司（NASDAQ：NTES）成立于1997年，总部位于广东省广州市，是中国领先的互联网技术公司，也是中国主要门户网站。网易公司推出了门户网站、在线游戏、电子邮箱、在线教育、电子商务、在线音乐等多种服务。2012年9月6日发布了2012年“100家增长最快的公司”排行榜，网易排名第81。            '},\n",
       " '工商信息': {'法定代表人': '丁丁磊任职51家企业，分布如下浙江（共22家）网易（杭州）网络有限公司等北京（共9家）网易有道信息技术（北京）有限公司等其他（共20家）网易（上海）网络游戏有限公司等',\n",
       "  '经营状态': '存续',\n",
       "  '成立日期': '2006-06-02',\n",
       "  None: None,\n",
       "  '注册资本': '13760万美元',\n",
       "  '实缴资本': '13760万美元',\n",
       "  '工商注册号': '330000400000772',\n",
       "  '统一社会信用代码': '91330000788831167A',\n",
       "  '纳税人识别号': '91330000788831167A',\n",
       "  '营业期限': '2006-06-02\\xa0            至\\xa02026-06-01',\n",
       "  '公司类型': '有限责任公司(台港澳法人独资)',\n",
       "  '行业': '软件和信息技术服务业',\n",
       "  '人员规模': '5000-9999人',\n",
       "  '经营范围': '计算机软、硬件及网络通信产品的开发、生产，互联网门户技术、电子商务技术、电子出版技术的开发、服务，销售本公司产品，从事服装服饰、电子产品、日用百货、工艺礼品、家用电器、体育用品、纺织品、金银珠宝首饰、化妆品（除分装）及卫生用品、办公用品、乐器、钟表、眼镜、玩具、照相器材、文化用品（不含图书、报刊、期刊、音像制品及电子出版物）、箱包皮具、花卉、盆景、通讯器材、五金灯具、建筑材料、装饰材料、金银制品的批发、零售、进口和佣金代理业务（拍卖除外），教育软件研发、技术咨询、技术服务，教育信息咨询（不含教育活动），票务代理（不含航空票务），自有房屋租赁，出版物批发、零售（凭许可证经营），设备租赁，翻译服务，体育赛事活动的组织、策划，体育经纪人、文化娱乐经纪人服务（不含演出经纪），设计、制作、代理、发布国内各类广告。（依法须经批准的项目，经相关部门批准后方可开展经营活动）'},\n",
       " '股东信息': [{'股东': '香港网易互动娱乐有限公司', '出资比例': '100%', '认缴出资': '100%'}],\n",
       " '主要成员': [{'姓名': '丁磊', '职位': '执行董事，', '持股比例': '-'},\n",
       "  {'姓名': '金春英', '职位': '监事', '持股比例': '-'}]}"
      ]
     },
     "execution_count": 43,
     "metadata": {},
     "output_type": "execute_result"
    }
   ],
   "source": [
    "company['主要成员']=get_main_members.get_zhuyao(select)\n",
    "company"
   ]
  },
  {
   "cell_type": "markdown",
   "metadata": {},
   "source": [
    "### 企业年报"
   ]
  },
  {
   "cell_type": "code",
   "execution_count": 44,
   "metadata": {},
   "outputs": [],
   "source": [
    "anaul_reports = select.xpath('//*[@id=\"nav-main-backgroundItem\"]/div[@tyc-event-ch=\"CompangyDetail.nianbao\"]/div[2]/div/table/tbody/tr')"
   ]
  },
  {
   "cell_type": "code",
   "execution_count": 45,
   "metadata": {},
   "outputs": [],
   "source": [
    "# Ltemp=[]\n",
    "# for t in anaul_reports:\n",
    "#     temp = {}\n",
    "#     temp['年报']=t.xpath('./td[2]/text()').extract_first()\n",
    "#     temp['链接']=t.xpath('./td[3]/a/@href').extract_first()\n",
    "#     Ltemp.append(temp)\n",
    "# Ltemp"
   ]
  },
  {
   "cell_type": "code",
   "execution_count": 46,
   "metadata": {},
   "outputs": [
    {
     "data": {
      "text/plain": [
       "{'基本信息': {'公司名称': '网易（杭州）网络有限公司',\n",
       "  '电话': '0571-89852163',\n",
       "  '邮箱': '暂无信息',\n",
       "  '网址': 'www.163.com',\n",
       "  '地址': '              浙江省杭州市滨江区长河街道网商路599号4幢7层            ',\n",
       "  '简介': '              网易公司（NASDAQ：NTES）成立于1997年，总部位于广东省广州市，是中国领先的互联网技术公司，也是中国主要门户网站。网易公司推出了门户网站、在线游戏、电子邮箱、在线教育、电子商务、在线音乐等多种服务。2012年9月6日发布了2012年“100家增长最快的公司”排行榜，网易排名第81。            '},\n",
       " '工商信息': {'法定代表人': '丁丁磊任职51家企业，分布如下浙江（共22家）网易（杭州）网络有限公司等北京（共9家）网易有道信息技术（北京）有限公司等其他（共20家）网易（上海）网络游戏有限公司等',\n",
       "  '经营状态': '存续',\n",
       "  '成立日期': '2006-06-02',\n",
       "  None: None,\n",
       "  '注册资本': '13760万美元',\n",
       "  '实缴资本': '13760万美元',\n",
       "  '工商注册号': '330000400000772',\n",
       "  '统一社会信用代码': '91330000788831167A',\n",
       "  '纳税人识别号': '91330000788831167A',\n",
       "  '营业期限': '2006-06-02\\xa0            至\\xa02026-06-01',\n",
       "  '公司类型': '有限责任公司(台港澳法人独资)',\n",
       "  '行业': '软件和信息技术服务业',\n",
       "  '人员规模': '5000-9999人',\n",
       "  '经营范围': '计算机软、硬件及网络通信产品的开发、生产，互联网门户技术、电子商务技术、电子出版技术的开发、服务，销售本公司产品，从事服装服饰、电子产品、日用百货、工艺礼品、家用电器、体育用品、纺织品、金银珠宝首饰、化妆品（除分装）及卫生用品、办公用品、乐器、钟表、眼镜、玩具、照相器材、文化用品（不含图书、报刊、期刊、音像制品及电子出版物）、箱包皮具、花卉、盆景、通讯器材、五金灯具、建筑材料、装饰材料、金银制品的批发、零售、进口和佣金代理业务（拍卖除外），教育软件研发、技术咨询、技术服务，教育信息咨询（不含教育活动），票务代理（不含航空票务），自有房屋租赁，出版物批发、零售（凭许可证经营），设备租赁，翻译服务，体育赛事活动的组织、策划，体育经纪人、文化娱乐经纪人服务（不含演出经纪），设计、制作、代理、发布国内各类广告。（依法须经批准的项目，经相关部门批准后方可开展经营活动）'},\n",
       " '股东信息': [{'股东': '香港网易互动娱乐有限公司', '出资比例': '100%', '认缴出资': '100%'}],\n",
       " '主要成员': [{'姓名': '丁磊', '职位': '执行董事，', '持股比例': '-'},\n",
       "  {'姓名': '金春英', '职位': '监事', '持股比例': '-'}],\n",
       " '企业年报': [{'企业年报': '2019年度报告',\n",
       "   '年报链接': 'https://nianbao.tianyancha.com/1207250686/'},\n",
       "  {'企业年报': '2018年度报告',\n",
       "   '年报链接': 'https://nianbao.tianyancha.com/1207250686/2018'},\n",
       "  {'企业年报': '2017年度报告',\n",
       "   '年报链接': 'https://nianbao.tianyancha.com/1207250686/2017'},\n",
       "  {'企业年报': '2016年度报告',\n",
       "   '年报链接': 'https://nianbao.tianyancha.com/1207250686/2016'},\n",
       "  {'企业年报': '2015年度报告',\n",
       "   '年报链接': 'https://nianbao.tianyancha.com/1207250686/2015'},\n",
       "  {'企业年报': '2014年度报告',\n",
       "   '年报链接': 'https://nianbao.tianyancha.com/1207250686/2014'},\n",
       "  {'企业年报': '2013年度报告',\n",
       "   '年报链接': 'https://nianbao.tianyancha.com/1207250686/2013'}]}"
      ]
     },
     "execution_count": 46,
     "metadata": {},
     "output_type": "execute_result"
    }
   ],
   "source": [
    "company['企业年报']=get_anaul_report.get_report(select)\n",
    "company"
   ]
  },
  {
   "cell_type": "markdown",
   "metadata": {},
   "source": [
    "### 司法风险"
   ]
  },
  {
   "cell_type": "code",
   "execution_count": 47,
   "metadata": {},
   "outputs": [],
   "source": [
    "judicial_risk = select.xpath('//*[@id=\"nav-main-lawDangerous\"]')"
   ]
  },
  {
   "cell_type": "code",
   "execution_count": 48,
   "metadata": {},
   "outputs": [],
   "source": [
    "# temp = {}\n",
    "# temp['开庭公告']=select.xpath('//*[@id=\"nav-main-announcementCount\"]/span[2]/text()').extract_first()\n",
    "# temp['历史开庭公告']=select.xpath('//*[@id=\"nav-main-announcementCount\"]/span[3]/span[2]/text()').extract_first()[-1:]\n",
    "# temp['法律诉讼']=select.xpath('//*[@id=\"nav-main-lawsuitWithLabelCount\"]/span[2]/text()').extract_first()\n",
    "# temp['历史法律诉讼']=select.xpath('//*[@id=\"nav-main-lawsuitWithLabelCount\"]/span[3]/span[2]/text()').extract_first()[-1:]\n",
    "# temp['法院公告']=select.xpath('//*[@id=\"nav-main-courtCount\"]/span[2]/text()').extract_first()\n",
    "# temp['司法协助']=select.xpath('//*[@id=\"nav-main-judicialaAidCount\"]/span[2]/text()').extract_first()\n",
    "# temp['历史司法协助']=select.xpath('//*[@id=\"nav-main-judicialaAidCount\"]/span[3]/span[2]/text()').extract_first()[-1:]\n",
    "# temp['立案信息']=select.xpath('//*[@id=\"nav-main-courtRegisterCount\"]/span[2]/text()').extract_first()\n",
    "# temp['破产重整']=select.xpath('//*[@id=\"nav-main-bankruptcyCount\"]/span[2]/text()').extract_first()\n",
    "# temp"
   ]
  },
  {
   "cell_type": "code",
   "execution_count": 49,
   "metadata": {},
   "outputs": [
    {
     "data": {
      "text/plain": [
       "{'基本信息': {'公司名称': '网易（杭州）网络有限公司',\n",
       "  '电话': '0571-89852163',\n",
       "  '邮箱': '暂无信息',\n",
       "  '网址': 'www.163.com',\n",
       "  '地址': '              浙江省杭州市滨江区长河街道网商路599号4幢7层            ',\n",
       "  '简介': '              网易公司（NASDAQ：NTES）成立于1997年，总部位于广东省广州市，是中国领先的互联网技术公司，也是中国主要门户网站。网易公司推出了门户网站、在线游戏、电子邮箱、在线教育、电子商务、在线音乐等多种服务。2012年9月6日发布了2012年“100家增长最快的公司”排行榜，网易排名第81。            '},\n",
       " '工商信息': {'法定代表人': '丁丁磊任职51家企业，分布如下浙江（共22家）网易（杭州）网络有限公司等北京（共9家）网易有道信息技术（北京）有限公司等其他（共20家）网易（上海）网络游戏有限公司等',\n",
       "  '经营状态': '存续',\n",
       "  '成立日期': '2006-06-02',\n",
       "  None: None,\n",
       "  '注册资本': '13760万美元',\n",
       "  '实缴资本': '13760万美元',\n",
       "  '工商注册号': '330000400000772',\n",
       "  '统一社会信用代码': '91330000788831167A',\n",
       "  '纳税人识别号': '91330000788831167A',\n",
       "  '营业期限': '2006-06-02\\xa0            至\\xa02026-06-01',\n",
       "  '公司类型': '有限责任公司(台港澳法人独资)',\n",
       "  '行业': '软件和信息技术服务业',\n",
       "  '人员规模': '5000-9999人',\n",
       "  '经营范围': '计算机软、硬件及网络通信产品的开发、生产，互联网门户技术、电子商务技术、电子出版技术的开发、服务，销售本公司产品，从事服装服饰、电子产品、日用百货、工艺礼品、家用电器、体育用品、纺织品、金银珠宝首饰、化妆品（除分装）及卫生用品、办公用品、乐器、钟表、眼镜、玩具、照相器材、文化用品（不含图书、报刊、期刊、音像制品及电子出版物）、箱包皮具、花卉、盆景、通讯器材、五金灯具、建筑材料、装饰材料、金银制品的批发、零售、进口和佣金代理业务（拍卖除外），教育软件研发、技术咨询、技术服务，教育信息咨询（不含教育活动），票务代理（不含航空票务），自有房屋租赁，出版物批发、零售（凭许可证经营），设备租赁，翻译服务，体育赛事活动的组织、策划，体育经纪人、文化娱乐经纪人服务（不含演出经纪），设计、制作、代理、发布国内各类广告。（依法须经批准的项目，经相关部门批准后方可开展经营活动）'},\n",
       " '股东信息': [{'股东': '香港网易互动娱乐有限公司', '出资比例': '100%', '认缴出资': '100%'}],\n",
       " '主要成员': [{'姓名': '丁磊', '职位': '执行董事，', '持股比例': '-'},\n",
       "  {'姓名': '金春英', '职位': '监事', '持股比例': '-'}],\n",
       " '企业年报': [{'企业年报': '2019年度报告',\n",
       "   '年报链接': 'https://nianbao.tianyancha.com/1207250686/'},\n",
       "  {'企业年报': '2018年度报告',\n",
       "   '年报链接': 'https://nianbao.tianyancha.com/1207250686/2018'},\n",
       "  {'企业年报': '2017年度报告',\n",
       "   '年报链接': 'https://nianbao.tianyancha.com/1207250686/2017'},\n",
       "  {'企业年报': '2016年度报告',\n",
       "   '年报链接': 'https://nianbao.tianyancha.com/1207250686/2016'},\n",
       "  {'企业年报': '2015年度报告',\n",
       "   '年报链接': 'https://nianbao.tianyancha.com/1207250686/2015'},\n",
       "  {'企业年报': '2014年度报告',\n",
       "   '年报链接': 'https://nianbao.tianyancha.com/1207250686/2014'},\n",
       "  {'企业年报': '2013年度报告',\n",
       "   '年报链接': 'https://nianbao.tianyancha.com/1207250686/2013'}],\n",
       " '司法风险': {'开庭公告': '329',\n",
       "  '历史开庭公告': '\\xa0171',\n",
       "  '法律诉讼': '426',\n",
       "  '历史法律诉讼': '\\xa0297',\n",
       "  '法院公告': '12',\n",
       "  '历史法院公告': None,\n",
       "  '司法协助': None,\n",
       "  '历史司法协助': None,\n",
       "  '立案信息': '218',\n",
       "  '历史立案信息': None,\n",
       "  '破产重整': None,\n",
       "  '历史破产重整': None}}"
      ]
     },
     "execution_count": 49,
     "metadata": {},
     "output_type": "execute_result"
    }
   ],
   "source": [
    "company['司法风险']=get_judicial_risk.get_judicial_risk(select)\n",
    "company"
   ]
  },
  {
   "cell_type": "markdown",
   "metadata": {},
   "source": [
    "### 知识产权"
   ]
  },
  {
   "cell_type": "code",
   "execution_count": 106,
   "metadata": {},
   "outputs": [
    {
     "data": {
      "text/plain": [
       "{'商标信息': '756', '专利信息': '12', '软件著作权': '63', '作品著作权': '1', '网站备案': '1'}"
      ]
     },
     "execution_count": 106,
     "metadata": {},
     "output_type": "execute_result"
    }
   ],
   "source": [
    "# temp = {}\n",
    "# temp['商标信息']=select.xpath('//*[@id=\"nav-main-tmCount\"]/span[2]/text()').extract_first()\n",
    "# temp['专利信息']=select.xpath('//*[@id=\"nav-main-patentCount\"]/span[2]/text()').extract_first()\n",
    "# temp['软件著作权']=select.xpath('//*[@id=\"nav-main-cpoyRCount\"]/span[2]/text()').extract_first()\n",
    "# temp['作品著作权']=select.xpath('//*[@id=\"nav-main-copyrightWorks\"]/span[2]/text()').extract_first()\n",
    "# temp['网站备案']=select.xpath('//*[@id=\"nav-main-icpCount\"]/span[2]/text()').extract_first()\n",
    "# temp"
   ]
  },
  {
   "cell_type": "code",
   "execution_count": 50,
   "metadata": {},
   "outputs": [
    {
     "data": {
      "text/plain": [
       "{'基本信息': {'公司名称': '网易（杭州）网络有限公司',\n",
       "  '电话': '0571-89852163',\n",
       "  '邮箱': '暂无信息',\n",
       "  '网址': 'www.163.com',\n",
       "  '地址': '              浙江省杭州市滨江区长河街道网商路599号4幢7层            ',\n",
       "  '简介': '              网易公司（NASDAQ：NTES）成立于1997年，总部位于广东省广州市，是中国领先的互联网技术公司，也是中国主要门户网站。网易公司推出了门户网站、在线游戏、电子邮箱、在线教育、电子商务、在线音乐等多种服务。2012年9月6日发布了2012年“100家增长最快的公司”排行榜，网易排名第81。            '},\n",
       " '工商信息': {'法定代表人': '丁丁磊任职51家企业，分布如下浙江（共22家）网易（杭州）网络有限公司等北京（共9家）网易有道信息技术（北京）有限公司等其他（共20家）网易（上海）网络游戏有限公司等',\n",
       "  '经营状态': '存续',\n",
       "  '成立日期': '2006-06-02',\n",
       "  None: None,\n",
       "  '注册资本': '13760万美元',\n",
       "  '实缴资本': '13760万美元',\n",
       "  '工商注册号': '330000400000772',\n",
       "  '统一社会信用代码': '91330000788831167A',\n",
       "  '纳税人识别号': '91330000788831167A',\n",
       "  '营业期限': '2006-06-02\\xa0            至\\xa02026-06-01',\n",
       "  '公司类型': '有限责任公司(台港澳法人独资)',\n",
       "  '行业': '软件和信息技术服务业',\n",
       "  '人员规模': '5000-9999人',\n",
       "  '经营范围': '计算机软、硬件及网络通信产品的开发、生产，互联网门户技术、电子商务技术、电子出版技术的开发、服务，销售本公司产品，从事服装服饰、电子产品、日用百货、工艺礼品、家用电器、体育用品、纺织品、金银珠宝首饰、化妆品（除分装）及卫生用品、办公用品、乐器、钟表、眼镜、玩具、照相器材、文化用品（不含图书、报刊、期刊、音像制品及电子出版物）、箱包皮具、花卉、盆景、通讯器材、五金灯具、建筑材料、装饰材料、金银制品的批发、零售、进口和佣金代理业务（拍卖除外），教育软件研发、技术咨询、技术服务，教育信息咨询（不含教育活动），票务代理（不含航空票务），自有房屋租赁，出版物批发、零售（凭许可证经营），设备租赁，翻译服务，体育赛事活动的组织、策划，体育经纪人、文化娱乐经纪人服务（不含演出经纪），设计、制作、代理、发布国内各类广告。（依法须经批准的项目，经相关部门批准后方可开展经营活动）'},\n",
       " '股东信息': [{'股东': '香港网易互动娱乐有限公司', '出资比例': '100%', '认缴出资': '100%'}],\n",
       " '主要成员': [{'姓名': '丁磊', '职位': '执行董事，', '持股比例': '-'},\n",
       "  {'姓名': '金春英', '职位': '监事', '持股比例': '-'}],\n",
       " '企业年报': [{'企业年报': '2019年度报告',\n",
       "   '年报链接': 'https://nianbao.tianyancha.com/1207250686/'},\n",
       "  {'企业年报': '2018年度报告',\n",
       "   '年报链接': 'https://nianbao.tianyancha.com/1207250686/2018'},\n",
       "  {'企业年报': '2017年度报告',\n",
       "   '年报链接': 'https://nianbao.tianyancha.com/1207250686/2017'},\n",
       "  {'企业年报': '2016年度报告',\n",
       "   '年报链接': 'https://nianbao.tianyancha.com/1207250686/2016'},\n",
       "  {'企业年报': '2015年度报告',\n",
       "   '年报链接': 'https://nianbao.tianyancha.com/1207250686/2015'},\n",
       "  {'企业年报': '2014年度报告',\n",
       "   '年报链接': 'https://nianbao.tianyancha.com/1207250686/2014'},\n",
       "  {'企业年报': '2013年度报告',\n",
       "   '年报链接': 'https://nianbao.tianyancha.com/1207250686/2013'}],\n",
       " '司法风险': {'开庭公告': '329',\n",
       "  '历史开庭公告': '\\xa0171',\n",
       "  '法律诉讼': '426',\n",
       "  '历史法律诉讼': '\\xa0297',\n",
       "  '法院公告': '12',\n",
       "  '历史法院公告': None,\n",
       "  '司法协助': None,\n",
       "  '历史司法协助': None,\n",
       "  '立案信息': '218',\n",
       "  '历史立案信息': None,\n",
       "  '破产重整': None,\n",
       "  '历史破产重整': None},\n",
       " '知识产权': {'商标信息': '5007',\n",
       "  '专利信息': '4550',\n",
       "  '软件著作权': '818',\n",
       "  '作品著作权': '4724',\n",
       "  '网站备案': '6'}}"
      ]
     },
     "execution_count": 50,
     "metadata": {},
     "output_type": "execute_result"
    }
   ],
   "source": [
    "company['知识产权']=get_intellectual_property.get_intellectual_property(select)\n",
    "company"
   ]
  },
  {
   "cell_type": "markdown",
   "metadata": {},
   "source": [
    "### 经营风险"
   ]
  },
  {
   "cell_type": "code",
   "execution_count": 52,
   "metadata": {},
   "outputs": [
    {
     "data": {
      "text/plain": [
       "{'股权出质': '19',\n",
       " '历史股权出质': '\\xa011',\n",
       " '行政处罚': None,\n",
       " '历史行政处罚': None,\n",
       " '经营异常': None,\n",
       " '历史经营异常': None,\n",
       " '股权质押': None,\n",
       " '历史股权质押': None}"
      ]
     },
     "execution_count": 52,
     "metadata": {},
     "output_type": "execute_result"
    }
   ],
   "source": [
    "get_operating_risk.get_operating_risk(select)"
   ]
  },
  {
   "cell_type": "code",
   "execution_count": null,
   "metadata": {},
   "outputs": [],
   "source": []
  }
 ],
 "metadata": {
  "kernelspec": {
   "display_name": "Python 3",
   "language": "python",
   "name": "python3"
  },
  "language_info": {
   "codemirror_mode": {
    "name": "ipython",
    "version": 3
   },
   "file_extension": ".py",
   "mimetype": "text/x-python",
   "name": "python",
   "nbconvert_exporter": "python",
   "pygments_lexer": "ipython3",
   "version": "3.6.12"
  }
 },
 "nbformat": 4,
 "nbformat_minor": 4
}
